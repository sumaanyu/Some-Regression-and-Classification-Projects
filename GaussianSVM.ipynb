{
 "cells": [
  {
   "cell_type": "code",
   "execution_count": 1,
   "metadata": {},
   "outputs": [
    {
     "name": "stderr",
     "output_type": "stream",
     "text": [
      "/Users/tfc/anaconda3/lib/python3.6/site-packages/sklearn/cross_validation.py:41: DeprecationWarning: This module was deprecated in version 0.18 in favor of the model_selection module into which all the refactored classes and functions are moved. Also note that the interface of the new CV iterators are different from that of this module. This module will be removed in 0.20.\n",
      "  \"This module will be removed in 0.20.\", DeprecationWarning)\n",
      "/Users/tfc/anaconda3/lib/python3.6/site-packages/sklearn/grid_search.py:42: DeprecationWarning: This module was deprecated in version 0.18 in favor of the model_selection module into which all the refactored classes and functions are moved. This module will be removed in 0.20.\n",
      "  DeprecationWarning)\n",
      "/Users/tfc/anaconda3/lib/python3.6/site-packages/sklearn/model_selection/_search.py:761: DeprecationWarning: The grid_scores_ attribute was deprecated in version 0.18 in favor of the more elaborate cv_results_ attribute. The grid_scores_ attribute will not be available from 0.20\n",
      "  DeprecationWarning)\n"
     ]
    },
    {
     "name": "stdout",
     "output_type": "stream",
     "text": [
      "[-0.32272727272727275, -0.32272727272727275, -0.32272727272727275, -0.32272727272727275, -0.32272727272727275, -0.32272727272727275, -0.32272727272727275, -0.32272727272727275, -0.32272727272727275, -0.32272727272727275, -0.32272727272727275, -0.32272727272727275, -0.32272727272727275, -0.32272727272727275, -0.32272727272727275, -0.32272727272727275, -0.32272727272727275, -0.32272727272727275, -0.32272727272727275, -0.32272727272727275, -0.32272727272727275, -0.32272727272727275, -0.32272727272727275, -0.2727272727272727, -0.1340909090909091, -0.22954545454545455, -0.32272727272727275, -0.32272727272727275, -0.32272727272727275, -0.32272727272727275, -0.32272727272727275, -0.32272727272727275, -0.27954545454545454, -0.12045454545454545, -0.11363636363636363, -0.12954545454545455, -0.2909090909090909, -0.32272727272727275, -0.32272727272727275, -0.32272727272727275, -0.32272727272727275, -0.2772727272727273, -0.12954545454545455, -0.10227272727272728, -0.10681818181818181, -0.16818181818181818, -0.27954545454545454, -0.325, -0.32272727272727275, -0.32272727272727275, -0.2772727272727273, -0.1318181818181818, -0.10909090909090909, -0.10454545454545454, -0.14772727272727273, -0.17727272727272728, -0.27954545454545454, -0.325, -0.32272727272727275, -0.32272727272727275, -0.1318181818181818, -0.11363636363636363, -0.11136363636363636, -0.10454545454545454, -0.15, -0.17954545454545454, -0.27954545454545454, -0.325, -0.32272727272727275, -0.32272727272727275, -0.11363636363636363, -0.11363636363636363, -0.09545454545454546, -0.12954545454545455, -0.1590909090909091, -0.17954545454545454, -0.27954545454545454, -0.325, -0.32272727272727275, -0.32272727272727275, -0.11818181818181818, -0.12272727272727273, -0.10227272727272728, -0.13636363636363635, -0.19318181818181818, -0.17954545454545454, -0.27954545454545454, -0.325, -0.32272727272727275, -0.32272727272727275, -0.11818181818181818, -0.09772727272727273, -0.11818181818181818, -0.14545454545454545, -0.19318181818181818, -0.17954545454545454, -0.27954545454545454, -0.325, -0.32272727272727275, -0.32272727272727275, -0.17272727272727273, -0.11136363636363636, -0.125, -0.16136363636363638, -0.19318181818181818, -0.17954545454545454, -0.27954545454545454, -0.325, -0.32272727272727275, -0.32272727272727275]\n",
      "{'C': 10000.0, 'gamma': 0.001}\n"
     ]
    },
    {
     "data": {
      "image/png": "[encoded data removed]",
      "text/plain": [
       "<matplotlib.figure.Figure at 0x1a098034a8>"
      ]
     },
     "metadata": {},
     "output_type": "display_data"
    }
   ],
   "source": [
    "import pylab as pl\n",
    "import pandas as pd\n",
    "import numpy as np\n",
    "import matplotlib.pyplot as plt\n",
    "%matplotlib inline\n",
    "import seaborn as sns\n",
    "from pandas.plotting import scatter_matrix\n",
    "from sklearn import preprocessing\n",
    "from sklearn.metrics import mean_squared_error as mse\n",
    "import sklearn.linear_model as lm \n",
    "from sklearn.model_selection import cross_val_score\n",
    "from sklearn.model_selection import GridSearchCV\n",
    "from sklearn.linear_model import Ridge\n",
    "from sklearn.linear_model import Lasso\n",
    "from sklearn.model_selection import train_test_split\n",
    "from sklearn.linear_model import ElasticNet\n",
    "from sklearn.svm import LinearSVC\n",
    "from sklearn.svm import SVC\n",
    "from sklearn.preprocessing import StandardScaler\n",
    "\n",
    "\n",
    "\n",
    "df_svm = pd.read_csv('wholesale-customers.csv', sep=',')\n",
    "df_svm.head()\n",
    "\n",
    "X_svm = df_svm.drop(columns = [\"Channel\"])\n",
    "\n",
    "#X_svm = preprocessing.Scaler(X_svm)\n",
    "y_svm = df_svm[\"Channel\"]\n",
    "\n",
    "from sklearn import svm, grid_search\n",
    "def svc_param_selection(X, y, nfolds):\n",
    "    X_train, X_test, y_train, y_test =train_test_split(X, y , test_size=0.3)\n",
    "\n",
    "scaler = StandardScaler()\n",
    "X_svm = scaler.fit_transform(X_svm)    \n",
    "    \n",
    "\n",
    "#Cs = np.logspace(-3, 8, 10)\n",
    "Cs = 10. ** np.arange(-3,8)\n",
    "g = np.logspace(-5, 4, 10)\n",
    "#tols = [0.001, 0.01, 0.1, 1]\n",
    "\n",
    "cv = svc_param_selection(X_svm,y_svm,5)\n",
    "param_grid = {'C': Cs ,'gamma' : g}\n",
    "grid_search = GridSearchCV(SVC(), param_grid, scoring = \"neg_mean_squared_error\",cv=cv)\n",
    "grid_search.fit(X_svm, y_svm)\n",
    "grid_search.best_params_\n",
    "\n",
    "score = grid_search.grid_scores_\n",
    "scores = [x[1] for x in score]\n",
    "\n",
    "print(scores)\n",
    "\n",
    "##### TAKE A LOOK AT THIS\n",
    "scores = abs(np.array(scores).reshape(len(Cs), len(g)))\n",
    "\n",
    "print(grid_search.best_params_)\n",
    "pl.figure(figsize=(8, 6))\n",
    "pl.subplots_adjust(left=0.15, right=0.95, bottom=0.15, top=0.95)\n",
    "pl.imshow(scores, interpolation='nearest', cmap=pl.cm.spectral)\n",
    "pl.xlabel('gamma')\n",
    "pl.ylabel('C')\n",
    "pl.colorbar()\n",
    "pl.xticks(np.arange(len(g)), g, rotation=45)\n",
    "pl.yticks(np.arange(len(Cs)), Cs)\n",
    "pl.show()"
   ]
  },
  {
   "cell_type": "code",
   "execution_count": null,
   "metadata": {},
   "outputs": [],
   "source": [
    "\n"
   ]
  },
  {
   "cell_type": "code",
   "execution_count": null,
   "metadata": {},
   "outputs": [],
   "source": []
  }
 ],
 "metadata": {
  "kernelspec": {
   "display_name": "Python 3",
   "language": "python",
   "name": "python3"
  },
  "language_info": {
   "codemirror_mode": {
    "name": "ipython",
    "version": 3
   },
   "file_extension": ".py",
   "mimetype": "text/x-python",
   "name": "python",
   "nbconvert_exporter": "python",
   "pygments_lexer": "ipython3",
   "version": "3.6.4"
  }
 },
 "nbformat": 4,
 "nbformat_minor": 2
}
