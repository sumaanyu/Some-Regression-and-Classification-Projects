{
 "cells": [
  {
   "cell_type": "code",
   "execution_count": 191,
   "metadata": {},
   "outputs": [
    {
     "name": "stdout",
     "output_type": "stream",
     "text": [
      "Min Accuracy Error:\n",
      "0.09772727272727277\n",
      "{'C': 6, 'gamma': 0.01}\n"
     ]
    },
    {
     "name": "stderr",
     "output_type": "stream",
     "text": [
      "/Users/tfc/anaconda3/lib/python3.6/site-packages/sklearn/model_selection/_search.py:761: DeprecationWarning: The grid_scores_ attribute was deprecated in version 0.18 in favor of the more elaborate cv_results_ attribute. The grid_scores_ attribute will not be available from 0.20\n",
      "  DeprecationWarning)\n"
     ]
    },
    {
     "data": {
      "image/png": "[encoded data removed]",
      "text/plain": [
       "<matplotlib.figure.Figure at 0x1a1385d0b8>"
      ]
     },
     "metadata": {},
     "output_type": "display_data"
    }
   ],
   "source": [
    "import pylab as pl\n",
    "import pandas as pd\n",
    "import numpy as np\n",
    "import matplotlib.pyplot as plt\n",
    "%matplotlib inline\n",
    "import seaborn as sns\n",
    "from pandas.plotting import scatter_matrix\n",
    "from sklearn import preprocessing\n",
    "import sklearn.linear_model as lm \n",
    "from sklearn.model_selection import cross_val_score\n",
    "from sklearn.model_selection import GridSearchCV\n",
    "from sklearn.model_selection import train_test_split\n",
    "from sklearn.svm import SVC\n",
    "from sklearn import svm, grid_search\n",
    "\n",
    "\n",
    "\n",
    "from sklearn.preprocessing import StandardScaler\n",
    "\n",
    "df_svm = pd.read_csv('wholesale-customers.csv', sep=',')\n",
    "df_svm.head()\n",
    "X_svm = df_svm.drop(columns = [\"Channel\"])\n",
    "y_svm = df_svm[\"Channel\"]\n",
    "\n",
    "for i in range(440):\n",
    "    y_svm[i] = (-1) ** y_svm[i]\n",
    "\n",
    "    \n",
    "    \n",
    "scaler = StandardScaler()\n",
    "X_svm = scaler.fit_transform(X_svm)    \n",
    "    \n",
    "#Cs = 10. ** np.arange(-2,5)\n",
    "Cs = [1,2,3,4,5,6,7,8,9]\n",
    "g = np.logspace(-5, 4, 10)\n",
    "\n",
    "def split_selector(X, y):\n",
    "    X_train, X_test, y_train, y_test =train_test_split(X, y , test_size=0.3)\n",
    "cv = split_selector(X_svm,y_svm)\n",
    "\n",
    "X_train, X_test, y_train, y_test = train_test_split(X_svm, y_svm , test_size=0.3)\n",
    "\n",
    "p_grid = {'C': Cs ,'gamma' : g}\n",
    "cross_val = GridSearchCV(SVC(), p_grid, scoring = \"accuracy\",cv=cv)\n",
    "cross_val.fit(X_svm, y_svm)\n",
    "cross_val.best_params_\n",
    "\n",
    "score = cross_val.grid_scores_\n",
    "scores = [x[1] for x in score]\n",
    "\n",
    "scores = 1 - np.array(scores).reshape(len(Cs), len(g))\n",
    "\n",
    "print('Min Accuracy Error:')\n",
    "print(np.min(scores))\n",
    "print(cross_val.best_params_)\n",
    "\n",
    "pl.figure(figsize=(7, 6))\n",
    "pl.imshow(scores, cmap=pl.cm.spectral_r)\n",
    "pl.ylabel('C')\n",
    "pl.xlabel('Gamma')\n",
    "pl.xticks(np.arange(len(g)), g, rotation=45)\n",
    "pl.yticks(np.arange(len(Cs)), Cs)\n",
    "pl.colorbar()\n",
    "pl.show()"
   ]
  },
  {
   "cell_type": "code",
   "execution_count": 139,
   "metadata": {},
   "outputs": [
    {
     "data": {
      "image/png": "[encoded data removed]",
      "text/plain": [
       "<matplotlib.figure.Figure at 0x1a1380de80>"
      ]
     },
     "metadata": {},
     "output_type": "display_data"
    }
   ],
   "source": [
    "pl.figure(figsize=(7, 6))\n",
    "pl.subplots_adjust(left=0.15, right=0.95, bottom=0.15, top=0.95)\n",
    "pl.imshow(scores, cmap=pl.cm.spectral)\n",
    "pl.xlabel('Gamma')\n",
    "pl.ylabel('C')\n",
    "pl.xticks(np.arange(len(g)), g, rotation=45)\n",
    "pl.yticks(np.arange(len(Cs)), Cs)\n",
    "pl.colorbar()\n",
    "pl.show()"
   ]
  },
  {
   "cell_type": "code",
   "execution_count": 135,
   "metadata": {},
   "outputs": [
    {
     "name": "stdout",
     "output_type": "stream",
     "text": [
      "[mean: 0.67727, std: 0.00113, params: {'C': 1, 'gamma': 1e-05}, mean: 0.67727, std: 0.00113, params: {'C': 1, 'gamma': 0.0001}, mean: 0.72045, std: 0.01133, params: {'C': 1, 'gamma': 0.001}, mean: 0.87955, std: 0.01650, params: {'C': 1, 'gamma': 0.01}, mean: 0.88636, std: 0.01210, params: {'C': 1, 'gamma': 0.1}, mean: 0.87045, std: 0.01548, params: {'C': 1, 'gamma': 1.0}, mean: 0.70909, std: 0.00839, params: {'C': 1, 'gamma': 10.0}, mean: 0.67727, std: 0.00113, params: {'C': 1, 'gamma': 100.0}, mean: 0.67727, std: 0.00113, params: {'C': 1, 'gamma': 1000.0}, mean: 0.67727, std: 0.00113, params: {'C': 1, 'gamma': 10000.0}, mean: 0.67727, std: 0.00113, params: {'C': 2, 'gamma': 1e-05}, mean: 0.67727, std: 0.00113, params: {'C': 2, 'gamma': 0.0001}, mean: 0.79318, std: 0.01072, params: {'C': 2, 'gamma': 0.001}, mean: 0.89545, std: 0.00614, params: {'C': 2, 'gamma': 0.01}, mean: 0.89091, std: 0.00617, params: {'C': 2, 'gamma': 0.1}, mean: 0.86818, std: 0.01236, params: {'C': 2, 'gamma': 1.0}, mean: 0.72273, std: 0.02292, params: {'C': 2, 'gamma': 10.0}, mean: 0.67500, std: 0.00284, params: {'C': 2, 'gamma': 100.0}, mean: 0.67727, std: 0.00113, params: {'C': 2, 'gamma': 1000.0}, mean: 0.67727, std: 0.00113, params: {'C': 2, 'gamma': 10000.0}, mean: 0.67727, std: 0.00113, params: {'C': 3, 'gamma': 1e-05}, mean: 0.68182, std: 0.00283, params: {'C': 3, 'gamma': 0.0001}, mean: 0.82727, std: 0.01618, params: {'C': 3, 'gamma': 0.001}, mean: 0.90000, std: 0.01204, params: {'C': 3, 'gamma': 0.01}, mean: 0.89318, std: 0.00912, params: {'C': 3, 'gamma': 0.1}, mean: 0.86136, std: 0.02025, params: {'C': 3, 'gamma': 1.0}, mean: 0.72045, std: 0.02244, params: {'C': 3, 'gamma': 10.0}, mean: 0.67500, std: 0.00284, params: {'C': 3, 'gamma': 100.0}, mean: 0.67727, std: 0.00113, params: {'C': 3, 'gamma': 1000.0}, mean: 0.67727, std: 0.00113, params: {'C': 3, 'gamma': 10000.0}, mean: 0.67727, std: 0.00113, params: {'C': 4, 'gamma': 1e-05}, mean: 0.68864, std: 0.00519, params: {'C': 4, 'gamma': 0.0001}, mean: 0.83636, std: 0.01448, params: {'C': 4, 'gamma': 0.001}, mean: 0.89318, std: 0.01207, params: {'C': 4, 'gamma': 0.01}, mean: 0.89091, std: 0.01030, params: {'C': 4, 'gamma': 0.1}, mean: 0.84545, std: 0.02699, params: {'C': 4, 'gamma': 1.0}, mean: 0.72045, std: 0.02244, params: {'C': 4, 'gamma': 10.0}, mean: 0.67500, std: 0.00284, params: {'C': 4, 'gamma': 100.0}, mean: 0.67727, std: 0.00113, params: {'C': 4, 'gamma': 1000.0}, mean: 0.67727, std: 0.00113, params: {'C': 4, 'gamma': 10000.0}, mean: 0.67727, std: 0.00113, params: {'C': 5, 'gamma': 1e-05}, mean: 0.69318, std: 0.00732, params: {'C': 5, 'gamma': 0.0001}, mean: 0.84545, std: 0.01731, params: {'C': 5, 'gamma': 0.001}, mean: 0.90000, std: 0.01748, params: {'C': 5, 'gamma': 0.01}, mean: 0.89318, std: 0.01207, params: {'C': 5, 'gamma': 0.1}, mean: 0.85000, std: 0.03011, params: {'C': 5, 'gamma': 1.0}, mean: 0.72045, std: 0.02244, params: {'C': 5, 'gamma': 10.0}, mean: 0.67500, std: 0.00284, params: {'C': 5, 'gamma': 100.0}, mean: 0.67727, std: 0.00113, params: {'C': 5, 'gamma': 1000.0}, mean: 0.67727, std: 0.00113, params: {'C': 5, 'gamma': 10000.0}, mean: 0.67727, std: 0.00113, params: {'C': 6, 'gamma': 1e-05}, mean: 0.70000, std: 0.01075, params: {'C': 6, 'gamma': 0.0001}, mean: 0.85455, std: 0.01141, params: {'C': 6, 'gamma': 0.001}, mean: 0.90227, std: 0.01450, params: {'C': 6, 'gamma': 0.01}, mean: 0.88864, std: 0.01837, params: {'C': 6, 'gamma': 0.1}, mean: 0.84545, std: 0.03645, params: {'C': 6, 'gamma': 1.0}, mean: 0.72045, std: 0.02244, params: {'C': 6, 'gamma': 10.0}, mean: 0.67500, std: 0.00284, params: {'C': 6, 'gamma': 100.0}, mean: 0.67727, std: 0.00113, params: {'C': 6, 'gamma': 1000.0}, mean: 0.67727, std: 0.00113, params: {'C': 6, 'gamma': 10000.0}, mean: 0.67727, std: 0.00113, params: {'C': 7, 'gamma': 1e-05}, mean: 0.70455, std: 0.00909, params: {'C': 7, 'gamma': 0.0001}, mean: 0.86136, std: 0.01420, params: {'C': 7, 'gamma': 0.001}, mean: 0.90000, std: 0.01456, params: {'C': 7, 'gamma': 0.01}, mean: 0.89091, std: 0.01969, params: {'C': 7, 'gamma': 0.1}, mean: 0.84318, std: 0.03917, params: {'C': 7, 'gamma': 1.0}, mean: 0.72045, std: 0.02244, params: {'C': 7, 'gamma': 10.0}, mean: 0.67500, std: 0.00284, params: {'C': 7, 'gamma': 100.0}, mean: 0.67727, std: 0.00113, params: {'C': 7, 'gamma': 1000.0}, mean: 0.67727, std: 0.00113, params: {'C': 7, 'gamma': 10000.0}, mean: 0.67727, std: 0.00113, params: {'C': 8, 'gamma': 1e-05}, mean: 0.70682, std: 0.01072, params: {'C': 8, 'gamma': 0.0001}, mean: 0.86591, std: 0.00691, params: {'C': 8, 'gamma': 0.001}, mean: 0.89773, std: 0.01168, params: {'C': 8, 'gamma': 0.01}, mean: 0.88864, std: 0.01837, params: {'C': 8, 'gamma': 0.1}, mean: 0.84318, std: 0.02951, params: {'C': 8, 'gamma': 1.0}, mean: 0.72045, std: 0.02244, params: {'C': 8, 'gamma': 10.0}, mean: 0.67500, std: 0.00284, params: {'C': 8, 'gamma': 100.0}, mean: 0.67727, std: 0.00113, params: {'C': 8, 'gamma': 1000.0}, mean: 0.67727, std: 0.00113, params: {'C': 8, 'gamma': 10000.0}, mean: 0.67727, std: 0.00113, params: {'C': 9, 'gamma': 1e-05}, mean: 0.71591, std: 0.00751, params: {'C': 9, 'gamma': 0.0001}, mean: 0.86818, std: 0.01419, params: {'C': 9, 'gamma': 0.001}, mean: 0.90000, std: 0.01456, params: {'C': 9, 'gamma': 0.01}, mean: 0.89091, std: 0.01969, params: {'C': 9, 'gamma': 0.1}, mean: 0.82955, std: 0.04887, params: {'C': 9, 'gamma': 1.0}, mean: 0.72045, std: 0.02244, params: {'C': 9, 'gamma': 10.0}, mean: 0.67500, std: 0.00284, params: {'C': 9, 'gamma': 100.0}, mean: 0.67727, std: 0.00113, params: {'C': 9, 'gamma': 1000.0}, mean: 0.67727, std: 0.00113, params: {'C': 9, 'gamma': 10000.0}]\n"
     ]
    }
   ],
   "source": [
    "print(score)"
   ]
  },
  {
   "cell_type": "code",
   "execution_count": 161,
   "metadata": {},
   "outputs": [
    {
     "data": {
      "text/plain": [
       "array([[-6.        , -6.        , -6.        , -6.        , -6.        ,\n",
       "        -6.        , -6.        , -6.        , -6.        , -6.        ,\n",
       "        -6.        , -6.        , -6.        , -1.19810968, -6.        ,\n",
       "        -6.        , -6.        , -6.        , -6.        , -6.        ,\n",
       "        -6.        , -4.1302061 , -6.        , -6.        , -6.        ,\n",
       "        -6.        , -6.        , -6.        , -6.        , -6.        ,\n",
       "        -6.        , -6.        , -6.        , -6.        , -6.        ,\n",
       "        -6.        , -6.        , -6.        , -6.        , -6.        ,\n",
       "        -6.        , -2.04558677, -6.        , -4.55968403, -6.        ,\n",
       "        -6.        , -6.        , -6.        , -6.        , -6.        ,\n",
       "         6.        ,  6.        ,  6.        ,  3.16765394,  6.        ,\n",
       "         6.        ,  0.18342533,  6.        ,  6.        ,  6.        ,\n",
       "         6.        ,  6.        ,  6.        ,  6.        ,  6.        ,\n",
       "         6.        ,  6.        ,  6.        ,  6.        ,  6.        ,\n",
       "         6.        ,  6.        ,  6.        ,  6.        ,  6.        ,\n",
       "         6.        ,  6.        ,  6.        ,  6.        ,  6.        ,\n",
       "         6.        ,  6.        ,  6.        ,  6.        ,  6.        ,\n",
       "         6.        ,  6.        ,  6.        ,  6.        ,  6.        ,\n",
       "         2.40032841,  6.        ,  6.        ,  6.        ,  6.        ,\n",
       "         6.        ,  6.        ,  0.1821789 ,  6.        ,  6.        ,\n",
       "         6.        ]])"
      ]
     },
     "execution_count": 161,
     "metadata": {},
     "output_type": "execute_result"
    }
   ],
   "source": [
    "X_train, X_test, y_train, y_test =train_test_split(X_svm, y_svm , test_size=0.3)\n",
    "final = SVC(kernel='rbf',gamma=0.01,C=6)\n",
    "final.fit(X_train,y_train)\n",
    "final.dual_coef_"
   ]
  },
  {
   "cell_type": "code",
   "execution_count": 169,
   "metadata": {},
   "outputs": [
    {
     "data": {
      "text/plain": [
       "NoneType"
      ]
     },
     "execution_count": 169,
     "metadata": {},
     "output_type": "execute_result"
    }
   ],
   "source": []
  },
  {
   "cell_type": "code",
   "execution_count": null,
   "metadata": {},
   "outputs": [],
   "source": []
  }
 ],
 "metadata": {
  "kernelspec": {
   "display_name": "Python 3",
   "language": "python",
   "name": "python3"
  },
  "language_info": {
   "codemirror_mode": {
    "name": "ipython",
    "version": 3
   },
   "file_extension": ".py",
   "mimetype": "text/x-python",
   "name": "python",
   "nbconvert_exporter": "python",
   "pygments_lexer": "ipython3",
   "version": "3.6.4"
  }
 },
 "nbformat": 4,
 "nbformat_minor": 2
}
