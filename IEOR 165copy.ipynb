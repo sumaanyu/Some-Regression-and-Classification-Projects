{
 "cells": [
  {
   "cell_type": "code",
   "execution_count": 17,
   "metadata": {},
   "outputs": [],
   "source": [
    "import matplotlib.pyplot as plt\n",
    "import numpy as np\n",
    "import pandas as pd\n",
    "import seaborn as sns\n",
    "\n",
    "from sklearn.model_selection import KFold\n",
    "from sklearn import linear_model\n",
    "from sklearn.model_selection import train_test_split\n",
    "from sklearn.linear_model import LinearRegression \n",
    "from sklearn.model_selection import cross_val_score\n",
    "from sklearn.preprocessing import scale\n",
    "from sklearn.linear_model import Lasso, LassoCV, Ridge, RidgeCV\n",
    "from sklearn.model_selection import cross_validate\n",
    "from sklearn.metrics import mean_squared_error\n",
    "\n",
    "%matplotlib inline \n",
    "\n",
    "data = pd.read_csv(\"winequality-red.csv\", sep=\";\")\n",
    "#intercept = np.ones((len(data),1))\n",
    "#data.insert(0, \"intercept\", intercept, allow_duplicates = False)\n",
    "X= data.drop(columns = \"quality\")\n",
    "y = data[\"quality\"]"
   ]
  },
  {
   "cell_type": "code",
   "execution_count": 5,
   "metadata": {},
   "outputs": [
    {
     "data": {
      "text/plain": [
       "Text(0, 0.5, 'weights')"
      ]
     },
     "execution_count": 5,
     "metadata": {},
     "output_type": "execute_result"
    },
    {
     "data": {
      "image/png": "[encoded data removed]",
      "text/plain": [
       "<Figure size 432x288 with 1 Axes>"
      ]
     },
     "metadata": {
      "needs_background": "light"
     },
     "output_type": "display_data"
    }
   ],
   "source": [
    "alphas = np.logspace(-4,-1,10)\n",
    "lasso = Lasso(max_iter=10000, normalize=True)\n",
    "coefs = []\n",
    "\n",
    "for a in alphas:\n",
    "    lasso.set_params(alpha=a)\n",
    "    lasso.fit(X, y)\n",
    "    coefs.append(lasso.coef_)\n",
    "    \n",
    "ax = plt.gca()\n",
    "ax.plot(alphas, coefs)\n",
    "ax.set_xscale('log')\n",
    "plt.axis('tight')\n",
    "plt.xlabel('alpha')\n",
    "plt.ylabel('weights')"
   ]
  },
  {
   "cell_type": "markdown",
   "metadata": {},
   "source": [
    "#### Multiple linear regression\n"
   ]
  },
  {
   "cell_type": "code",
   "execution_count": 6,
   "metadata": {},
   "outputs": [
    {
     "name": "stdout",
     "output_type": "stream",
     "text": [
      "-0.4366293880320983\n"
     ]
    }
   ],
   "source": [
    "lin_reg = LinearRegression()\n",
    "MSE = cross_val_score(lin_reg, X, y, scoring = \"neg_mean_squared_error\", cv = 5)\n",
    "mean_MSE = np.mean(MSE)\n",
    "print(mean_MSE)"
   ]
  },
  {
   "cell_type": "markdown",
   "metadata": {},
   "source": [
    "#### Ridge Regression"
   ]
  },
  {
   "cell_type": "code",
   "execution_count": 7,
   "metadata": {},
   "outputs": [
    {
     "name": "stdout",
     "output_type": "stream",
     "text": [
      "{'alpha': 0.046415888336127774}\n",
      "-0.4358687733548212\n"
     ]
    }
   ],
   "source": [
    "from sklearn.model_selection import GridSearchCV\n",
    "from sklearn.linear_model import Ridge\n",
    "ridge = Ridge()\n",
    "alphas = {\"alpha\": np.logspace(-4,-1,10)}\n",
    "ridge_regressor = GridSearchCV(ridge, alphas, scoring=\"neg_mean_squared_error\", cv = 5)\n",
    "ridge_regressor.fit(X,y)\n",
    "print(ridge_regressor.best_params_)\n",
    "print(ridge_regressor.best_score_)"
   ]
  },
  {
   "cell_type": "markdown",
   "metadata": {},
   "source": [
    "#### Lasso Regression"
   ]
  },
  {
   "cell_type": "code",
   "execution_count": 8,
   "metadata": {},
   "outputs": [
    {
     "name": "stdout",
     "output_type": "stream",
     "text": [
      "{'alpha': 0.0001}\n",
      "-0.43587064274898135\n"
     ]
    }
   ],
   "source": [
    "from sklearn.linear_model import Lasso\n",
    "lasso = Lasso()\n",
    "alphas = {\"alpha\": np.logspace(-4,-1,10)}\n",
    "lasso_regressor = GridSearchCV(lasso, alphas, scoring = \"neg_mean_squared_error\", cv = 5)\n",
    "lasso_regressor.fit(X,y)\n",
    "print(lasso_regressor.best_params_)\n",
    "print(lasso_regressor.best_score_)"
   ]
  },
  {
   "cell_type": "code",
   "execution_count": 12,
   "metadata": {},
   "outputs": [
    {
     "name": "stdout",
     "output_type": "stream",
     "text": [
      "0.0001 [ 0.          0.00444919 -1.2220295  -0.14848575  0.01413483 -1.81558252\n",
      "  0.0028523  -0.00295551 -0.         -0.47199826  0.81834041  0.28514731]\n",
      "0.00021544346900318845 [ 0.          0.00491981 -1.21981041 -0.14103778  0.01382496 -1.7453015\n",
      "  0.00284912 -0.00294581 -0.         -0.45681517  0.80727248  0.28545158]\n",
      "0.00046415888336127773 [ 0.          0.00593306 -1.21502528 -0.1249871   0.01315736 -1.59389506\n",
      "  0.00284232 -0.00292494 -0.         -0.42410815  0.78342839  0.28610703]\n",
      "0.001 [ 0.          0.00811606 -1.2047161  -0.09040701  0.01171905 -1.26769961\n",
      "  0.00282767 -0.00287999 -0.         -0.35364291  0.73205783  0.28751915]\n",
      "0.002154434690031882 [ 0.          0.0128186  -1.18250159 -0.0159023   0.00862029 -0.56494244\n",
      "  0.00279617 -0.00278316 -0.         -0.20183396  0.62138438  0.29056139]\n",
      "0.004641588833612777 [ 0.          0.02548735 -1.14817656 -0.          0.00547111 -0.\n",
      "  0.0026207  -0.00257825 -0.         -0.          0.50055008  0.29273392]\n",
      "0.01 [ 0.          0.03133226 -1.0064426   0.          0.00180826 -0.\n",
      "  0.00294353 -0.00257597 -0.         -0.          0.35411688  0.29575846]\n",
      "0.021544346900318822 [ 0.          0.04295792 -0.703779    0.          0.         -0.\n",
      "  0.00349508 -0.00260855 -0.         -0.          0.04006523  0.30148272]\n",
      "0.046415888336127774 [ 0.          0.05580544 -0.          0.          0.         -0.\n",
      "  0.00437107 -0.00299612 -0.         -0.          0.          0.30213105]\n",
      "0.1 [ 0.          0.03455362 -0.          0.          0.         -0.\n",
      "  0.00321466 -0.00319739 -0.         -0.          0.          0.25026797]\n",
      "CV [ 0.          0.03021971 -0.97459703 -0.          0.         -0.\n",
      "  0.00480271 -0.00307246 -0.         -0.          0.508058    0.30198586]\n"
     ]
    },
    {
     "name": "stderr",
     "output_type": "stream",
     "text": [
      "/Users/sumaanyumaheshwari/anaconda3/lib/python3.6/site-packages/sklearn/model_selection/_split.py:2053: FutureWarning: You should specify a value for 'cv' instead of relying on the default value. The default value will change from 3 to 5 in version 0.22.\n",
      "  warnings.warn(CV_WARNING, FutureWarning)\n"
     ]
    },
    {
     "data": {
      "image/png": "[encoded data removed]",
      "text/plain": [
       "<Figure size 432x288 with 1 Axes>"
      ]
     },
     "metadata": {
      "needs_background": "light"
     },
     "output_type": "display_data"
    }
   ],
   "source": [
    "X_train, X_test, y_train, y_test = train_test_split(X, y, test_size=0.25, random_state=0)\n",
    "\n",
    "alphas = np.logspace(-4,-1,10)\n",
    "scores = np.empty_like(alphas)\n",
    "for i, a in enumerate(alphas):\n",
    "    lasso = linear_model.Lasso()\n",
    "    lasso.set_params(alpha= a)\n",
    "    lasso.fit(X_train,y_train)\n",
    "    scores[i] = lasso.score(X_test,y_test)\n",
    "    print(a, lasso.coef_)\n",
    "\n",
    "lassocv = linear_model.LassoCV()\n",
    "lassocv.fit(X,y)\n",
    "lassocv_score = lassocv.score(X, y)\n",
    "lassocv_alpha = lassocv.alpha_\n",
    "print('CV', lassocv.coef_)\n",
    "\n",
    "plt.plot(alphas, scores, '-ko')\n",
    "plt.axhline(lassocv_score, color='b', ls='--')\n",
    "plt.axvline(lassocv_alpha, color='b', ls='--')\n",
    "plt.xlabel(r'$\\alpha$')\n",
    "plt.ylabel('Score')\n",
    "sns.despine(offset=15)"
   ]
  },
  {
   "cell_type": "code",
   "execution_count": null,
   "metadata": {},
   "outputs": [],
   "source": []
  }
 ],
 "metadata": {
  "kernelspec": {
   "display_name": "Python 3",
   "language": "python",
   "name": "python3"
  },
  "language_info": {
   "codemirror_mode": {
    "name": "ipython",
    "version": 3
   },
   "file_extension": ".py",
   "mimetype": "text/x-python",
   "name": "python",
   "nbconvert_exporter": "python",
   "pygments_lexer": "ipython3",
   "version": "3.6.8"
  }
 },
 "nbformat": 4,
 "nbformat_minor": 2
}
